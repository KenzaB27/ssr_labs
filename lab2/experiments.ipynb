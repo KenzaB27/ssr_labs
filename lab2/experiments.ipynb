{
 "metadata": {
  "language_info": {
   "codemirror_mode": {
    "name": "ipython",
    "version": 3
   },
   "file_extension": ".py",
   "mimetype": "text/x-python",
   "name": "python",
   "nbconvert_exporter": "python",
   "pygments_lexer": "ipython3",
   "version": "3.6.12"
  },
  "orig_nbformat": 2,
  "kernelspec": {
   "name": "python3612jvsc74a57bd02762fd0ccae7a6827a0de0868563b3d499c815e35640ddddc3d2dc7e9a34dcb9",
   "display_name": "Python 3.6.12 64-bit (conda)"
  }
 },
 "nbformat": 4,
 "nbformat_minor": 2,
 "cells": [
  {
   "cell_type": "code",
   "execution_count": 1,
   "metadata": {},
   "outputs": [],
   "source": [
    "import numpy as np"
   ]
  },
  {
   "source": [
    "# Data and model set "
   ],
   "cell_type": "markdown",
   "metadata": {}
  },
  {
   "cell_type": "code",
   "execution_count": 7,
   "metadata": {},
   "outputs": [],
   "source": [
    "data = np.load('data/lab2_data.npz', allow_pickle=True)['data']\n",
    "phoneHMMs = np.load('data/lab2_models_onespkr.npz', allow_pickle=True)['phoneHMMs'].item()"
   ]
  },
  {
   "cell_type": "code",
   "execution_count": 8,
   "metadata": {},
   "outputs": [
    {
     "output_type": "execute_result",
     "data": {
      "text/plain": [
       "['ah',\n",
       " 'ao',\n",
       " 'ay',\n",
       " 'eh',\n",
       " 'ey',\n",
       " 'f',\n",
       " 'ih',\n",
       " 'iy',\n",
       " 'k',\n",
       " 'n',\n",
       " 'ow',\n",
       " 'r',\n",
       " 's',\n",
       " 'sil',\n",
       " 'sp',\n",
       " 't',\n",
       " 'th',\n",
       " 'uw',\n",
       " 'v',\n",
       " 'w',\n",
       " 'z']"
      ]
     },
     "metadata": {},
     "execution_count": 8
    }
   ],
   "source": [
    "list(sorted(phoneHMMs.keys()))"
   ]
  },
  {
   "cell_type": "code",
   "execution_count": 9,
   "metadata": {},
   "outputs": [
    {
     "output_type": "execute_result",
     "data": {
      "text/plain": [
       "dict_keys(['name', 'startprob', 'transmat', 'means', 'covars'])"
      ]
     },
     "metadata": {},
     "execution_count": 9
    }
   ],
   "source": [
    "phoneHMMs['ah'].keys()"
   ]
  }
 ]
}
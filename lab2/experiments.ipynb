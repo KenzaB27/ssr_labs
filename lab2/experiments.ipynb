{
 "metadata": {
  "language_info": {
   "codemirror_mode": {
    "name": "ipython",
    "version": 3
   },
   "file_extension": ".py",
   "mimetype": "text/x-python",
   "name": "python",
   "nbconvert_exporter": "python",
   "pygments_lexer": "ipython3",
   "version": "3.6.12"
  },
  "orig_nbformat": 2,
  "kernelspec": {
   "name": "python3612jvsc74a57bd02762fd0ccae7a6827a0de0868563b3d499c815e35640ddddc3d2dc7e9a34dcb9",
   "display_name": "Python 3.6.12 64-bit (conda)"
  }
 },
 "nbformat": 4,
 "nbformat_minor": 2,
 "cells": [
  {
   "cell_type": "code",
   "execution_count": 3,
   "metadata": {},
   "outputs": [],
   "source": [
    "import numpy as np\n",
    "import importlib\n",
    "import lab2_proto as proto\n",
    "import lab2_tools as tools"
   ]
  },
  {
   "source": [
    "# Data and model set \n",
    "## 3.1 The phonetic models"
   ],
   "cell_type": "markdown",
   "metadata": {}
  },
  {
   "cell_type": "code",
   "execution_count": 6,
   "metadata": {},
   "outputs": [],
   "source": [
    "data = np.load('data/lab2_data.npz', allow_pickle=True)['data']\n",
    "phoneHMMs = np.load('data/lab2_models_onespkr.npz', allow_pickle=True)['phoneHMMs'].item()\n",
    "example = np.load(\"data/lab2_example.npz\", allow_pickle=True)['example'].item()"
   ]
  },
  {
   "cell_type": "code",
   "execution_count": 17,
   "metadata": {},
   "outputs": [
    {
     "output_type": "execute_result",
     "data": {
      "text/plain": [
       "['filename',\n",
       " 'samplingrate',\n",
       " 'gender',\n",
       " 'speaker',\n",
       " 'digit',\n",
       " 'repetition',\n",
       " 'samples',\n",
       " 'lmfcc',\n",
       " 'obsloglik',\n",
       " 'logalpha',\n",
       " 'loglik',\n",
       " 'vloglik',\n",
       " 'vpath',\n",
       " 'logbeta',\n",
       " 'loggamma']"
      ]
     },
     "metadata": {},
     "execution_count": 17
    }
   ],
   "source": [
    "list(example.keys())"
   ]
  },
  {
   "cell_type": "code",
   "execution_count": 10,
   "metadata": {},
   "outputs": [
    {
     "output_type": "execute_result",
     "data": {
      "text/plain": [
       "['ah',\n",
       " 'ao',\n",
       " 'ay',\n",
       " 'eh',\n",
       " 'ey',\n",
       " 'f',\n",
       " 'ih',\n",
       " 'iy',\n",
       " 'k',\n",
       " 'n',\n",
       " 'ow',\n",
       " 'r',\n",
       " 's',\n",
       " 'sil',\n",
       " 'sp',\n",
       " 't',\n",
       " 'th',\n",
       " 'uw',\n",
       " 'v',\n",
       " 'w',\n",
       " 'z']"
      ]
     },
     "metadata": {},
     "execution_count": 10
    }
   ],
   "source": [
    "list(sorted(phoneHMMs.keys()))"
   ]
  },
  {
   "cell_type": "code",
   "execution_count": 11,
   "metadata": {},
   "outputs": [
    {
     "output_type": "execute_result",
     "data": {
      "text/plain": [
       "dict_keys(['name', 'startprob', 'transmat', 'means', 'covars'])"
      ]
     },
     "metadata": {},
     "execution_count": 11
    }
   ],
   "source": [
    "phoneHMMs['ah'].keys()"
   ]
  },
  {
   "cell_type": "code",
   "execution_count": 16,
   "metadata": {},
   "outputs": [
    {
     "output_type": "execute_result",
     "data": {
      "text/plain": [
       "array([1., 0., 0., 0.])"
      ]
     },
     "metadata": {},
     "execution_count": 16
    }
   ],
   "source": [
    "phoneHMMs['ah']['startprob']"
   ]
  },
  {
   "source": [
    "## 3.2 Pronunciation dictionary and utterance models"
   ],
   "cell_type": "markdown",
   "metadata": {}
  },
  {
   "cell_type": "code",
   "execution_count": 13,
   "metadata": {},
   "outputs": [],
   "source": [
    "prondict = {} \n",
    "prondict['o'] = ['ow']\n",
    "prondict['z'] = ['z', 'iy', 'r', 'ow']\n",
    "prondict['1'] = ['w', 'ah', 'n']\n",
    "prondict['2'] = ['t', 'uw']\n",
    "prondict['3'] = ['th', 'r', 'iy']\n",
    "prondict['4'] = ['f', 'ao', 'r']\n",
    "prondict['5'] = ['f', 'ay', 'v']\n",
    "prondict['6'] = ['s', 'ih', 'k', 's']\n",
    "prondict['7'] = ['s', 'eh', 'v', 'ah', 'n']\n",
    "prondict['8'] = ['ey', 't']\n",
    "prondict['9'] = ['n', 'ay', 'n']"
   ]
  },
  {
   "cell_type": "code",
   "execution_count": 15,
   "metadata": {},
   "outputs": [
    {
     "output_type": "execute_result",
     "data": {
      "text/plain": [
       "{'o': ['sil', 'ow', 'sil'],\n",
       " 'z': ['sil', 'z', 'iy', 'r', 'ow', 'sil'],\n",
       " '1': ['sil', 'w', 'ah', 'n', 'sil'],\n",
       " '2': ['sil', 't', 'uw', 'sil'],\n",
       " '3': ['sil', 'th', 'r', 'iy', 'sil'],\n",
       " '4': ['sil', 'f', 'ao', 'r', 'sil'],\n",
       " '5': ['sil', 'f', 'ay', 'v', 'sil'],\n",
       " '6': ['sil', 's', 'ih', 'k', 's', 'sil'],\n",
       " '7': ['sil', 's', 'eh', 'v', 'ah', 'n', 'sil'],\n",
       " '8': ['sil', 'ey', 't', 'sil'],\n",
       " '9': ['sil', 'n', 'ay', 'n', 'sil']}"
      ]
     },
     "metadata": {},
     "execution_count": 15
    }
   ],
   "source": [
    "isolated = {}\n",
    "for digit in prondict.keys():\n",
    "    isolated[digit] = ['sil'] + prondict[digit] + ['sil']\n",
    "isolated"
   ]
  },
  {
   "source": [
    "# 4 Concatenating HMMs"
   ],
   "cell_type": "markdown",
   "metadata": {}
  },
  {
   "cell_type": "code",
   "execution_count": 54,
   "metadata": {},
   "outputs": [],
   "source": [
    "importlib.reload(proto)\n",
    "wordHMMs = {}\n",
    "wordHMMs['o'] = proto.concatHMMs(phoneHMMs, isolated['o'])"
   ]
  },
  {
   "source": [
    "# 5 HMM Likelihood and Recognition\n",
    "## 5.1 Gaussian emission probabilities"
   ],
   "cell_type": "markdown",
   "metadata": {}
  }
 ]
}